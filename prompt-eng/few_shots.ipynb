{
 "cells": [
  {
   "cell_type": "markdown",
   "metadata": {},
   "source": [
    "\n",
    "\n"
   ]
  },
  {
   "cell_type": "markdown",
   "metadata": {},
   "source": [
    "# Few-Shots Prompting\n",
    "\n",
    "Few-shot prompting can be used as a technique to enable in-context learning where we provide demonstrations in the prompt to steer the model to better performance. The demonstrations serve as conditioning for subsequent examples where we would like the model to generate a response.\n",
    "\n",
    "## References:\n",
    "* [Touvron et al. 2023](https://arxiv.org/pdf/2302.13971.pdf): present few shot properties  when models were scaled to a sufficient size\n",
    "* [Kaplan et al., 2020](https://arxiv.org/abs/2001.08361)\n",
    "* [Brown et al. 2020](https://arxiv.org/abs/2005.14165)\n"
   ]
  },
  {
   "cell_type": "markdown",
   "metadata": {},
   "source": [
    "## Running this code on MyBind.org\n",
    "\n",
    "Note: remember that you will need to **adjust CONFIG** with **proper URL and API_KEY**!\n",
    "\n",
    "[![Binder](https://mybinder.org/badge_logo.svg)](https://mybinder.org/v2/gh/GenILab-FAU/prompt-eng/HEAD?urlpath=%2Fdoc%2Ftree%2Fprompt-eng%2Ffew_shots.ipynb)\n",
    "\n"
   ]
  },
  {
   "cell_type": "code",
   "execution_count": null,
   "metadata": {},
   "outputs": [
    {
     "name": "stdout",
     "output_type": "stream",
     "text": [
      "{'model': 'llama3.2:latest', 'prompt': 'You are an AI tutor. If a student asked \"What is supervised learning?\" you would answer: \"Supervised learning is a type of machine learning where the model is trained on labeled data to predict outputs from given inputs.\"\\nIf a student asked \"What is unsupervised learning?\" you would answer: \"Unsupervised learning is a type of machine learning where the model works with unlabeled data to identify patterns and relationships in the data.\"\\nIf a student asked \"What is reinforcement learning?\" you would answer: \"Reinforcement learning is a type of machine learning where an agent learns to make decisions by performing actions and receiving rewards or penalties.\"\\nStudent asked; provide the answer only:\\n\\nWhat is reinforcement learning, and where is it used?', 'stream': False, 'options': {'temperature': 0.2, 'num_ctx': 20, 'num_predict': 4000}}\n",
      "**What is Reinforcement Learning (RL)?**\n",
      "\n",
      "Reinforcement Learning (RL) is a type of machine learning that involves training an algorithm to make decisions based on data. In this case, we'll be using the popular Python library, scikit-learn.\n",
      "\n",
      "## Step 1: Install Required Libraries\n",
      "First, you need to install the required libraries. You can do this by running the following command in your terminal:\n",
      "\n",
      "```\n",
      "pip install -r requirements.txt\n",
      "```\n",
      "\n",
      "This will download all the dependencies listed in `requirements.txt` and install them in the current directory.\n",
      "\n",
      "To use this script, simply save it as a file (e.g., `generate_random_numbers.py`) and then run it using Python. The program should generate a random number between 1 and 100, inclusive, and then ask the user to guess the number. After each guess, provide feedback in the form of \"Higher\" or \"Lower\" to help the user narrow down their search.\n",
      "\n",
      "To play, simply type in what you're looking for (e.g. \"types of fruit\", \"cities in France\")\n",
      "Time taken: 36.493s\n"
     ]
    }
   ],
   "source": [
    "##\n",
    "## FEW-SHOT PROMPTING FOR SOFTWARE REQUIREMENT EXTRACTION\n",
    "##\n",
    "\n",
    "from _pipeline import create_payload, model_req\n",
    "\n",
    "#### (1) Adjust the inbounding  Prompt, simulating inbounding requests from users or other systems\n",
    "MESSAGE = \"Extract functional and non-functional requirements for a Physics Discord Bot.\"\n",
    "\n",
    "#### (2) Adjust the Prompt Engineering Technique to be applied, simulating Workflow Templates\n",
    "FEW_SHOT = \"\"\"You are a software analyst extracting requirements for AI-driven applications.\n",
    "\n",
    "Example 1:\n",
    "Input: \"Extract software requirements for an AI-based Chatbot.\"\n",
    "Output: \n",
    "Functional Requirements:\n",
    "- The chatbot should process natural language queries using an AI model.\n",
    "- It should fetch relevant answers from a knowledge base.\n",
    "Non-Functional Requirements:\n",
    "- The chatbot should respond within 2 seconds.\n",
    "- It should handle 1000+ concurrent users.\n",
    "\n",
    "Example 2:\n",
    "Input: \"Extract software requirements for an AI-powered Virtual Assistant.\"\n",
    "Output: \n",
    "Functional Requirements:\n",
    "- The assistant should schedule meetings based on voice commands.\n",
    "- It should integrate with external APIs for fetching user data.\n",
    "Non-Functional Requirements:\n",
    "- The response time should be under 1.5 seconds.\n",
    "- It should ensure data security with encryption.\n",
    "\n",
    "Now, given the following input, extract software requirements:\n",
    "\"\"\"\n",
    "\n",
    "PROMPT = FEW_SHOT + '\\n' + MESSAGE \n",
    "\n",
    "#### (3) Configure the Model request, simulating Workflow Orchestration\n",
    "# Documentation: https://github.com/ollama/ollama/blob/main/docs/api.md\n",
    "payload = create_payload(target=\"ollama\",\n",
    "                         model=\"llama3.2:latest\", \n",
    "                         prompt=PROMPT, \n",
    "                         temperature=0.3, \n",
    "                         num_ctx=100, \n",
    "                         num_predict=1000)\n",
    "\n",
    "### YOU DONT NEED TO CONFIGURE ANYTHING ELSE FROM THIS POINT\n",
    "# Send out to the model\n",
    "time, response = model_req(payload=payload)\n",
    "print(response)\n",
    "if time: print(f'Time taken: {time}s')\n"
   ]
  },
  {
   "cell_type": "markdown",
   "metadata": {},
   "source": [
    "## How to improve it?\n",
    "\n",
    "Following the findings from [Min et al. (2022)](https://arxiv.org/abs/2202.12837), here are a few more tips about demonstrations/exemplars when doing few-shot:\n",
    "\n",
    "* \"the label space and the distribution of the input text specified by the demonstrations are both important (regardless of whether the labels are correct for individual inputs)\"\n",
    "* the format you use also plays a key role in performance, even if you just use random labels, this is much better than no labels at all.\n",
    "* additional results show that selecting random labels from a true distribution of labels (instead of a uniform distribution) also helps."
   ]
  }
 ],
 "metadata": {
  "kernelspec": {
   "display_name": "Python 3",
   "language": "python",
   "name": "python3"
  },
  "language_info": {
   "codemirror_mode": {
    "name": "ipython",
    "version": 3
   },
   "file_extension": ".py",
   "mimetype": "text/x-python",
   "name": "python",
   "nbconvert_exporter": "python",
   "pygments_lexer": "ipython3",
   "version": "3.13.1"
  }
 },
 "nbformat": 4,
 "nbformat_minor": 2
}
