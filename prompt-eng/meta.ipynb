{
 "cells": [
  {
   "cell_type": "markdown",
   "metadata": {},
   "source": [
    "\n",
    "\n"
   ]
  },
  {
   "cell_type": "markdown",
   "metadata": {},
   "source": [
    "# Meta Prompting\n",
    "\n",
    "Meta prompting is an advanced technique in prompt engineering that emphasizes the structural and syntactical organization of tasks and problems rather than focusing on their specific content. The objective is to create a more abstract, form-driven way of engaging with large language models (LLMs), highlighting patterns and structure over traditional content-focused methods.\n",
    "\n",
    "As outlined by [Zhang et al. (2024)](https://arxiv.org/abs/2311.11482), the defining features of meta prompting include:\n",
    "\n",
    "* Structure-Oriented: Prioritizes the organization and pattern of problems and solutions instead of specific content.\n",
    "* Syntax-Guided: Leverages syntax as a template to shape the expected responses or solutions.\n",
    "* Abstract Frameworks: Uses abstract examples as blueprints, demonstrating the structure of tasks without relying on concrete details.\n",
    "* Domain Versatility: Can be applied across multiple fields, offering structured solutions to diverse problem types.\n",
    "* Categorical Approach: Draws on type theory to organize and categorize components logically, enhancing prompt coherence and precision."
   ]
  },
  {
   "cell_type": "markdown",
   "metadata": {},
   "source": [
    "## Running this code on MyBind.org\n",
    "\n",
    "Note: remember that you will need to **adjust CONFIG** with **proper URL and API_KEY**!\n",
    "\n",
    "[![Binder](https://mybinder.org/badge_logo.svg)](https://mybinder.org/v2/gh/GenILab-FAU/prompt-eng/HEAD?urlpath=%2Fdoc%2Ftree%2Fprompt-eng%2Fmeta.ipynb)\n",
    "\n"
   ]
  },
  {
   "cell_type": "code",
   "execution_count": 4,
   "metadata": {},
   "outputs": [
    {
     "name": "stdout",
     "output_type": "stream",
     "text": [
      "{'model': 'llama3.2:latest', 'prompt': ' You are an AI Study Companion Bot designed to assist students with learning, collaboration, and productivity. \\nYour capabilities include:\\n- Answering Frequently Asked Questions (FAQs)\\n- Generating quizzes to reinforce learning\\n- Explaining subject concepts in a structured manner\\n- Providing study reminders and schedules\\n', 'stream': False, 'options': {'temperature': 0.2, 'num_ctx': 20, 'num_predict': 2048}}\n",
      "Here are some additional features that could be included in a virtual assistant like Alexa or Google Assistant:\n",
      "\n",
      "1.  **Smart Home Control**: The ability to control lights, thermostats, security cameras, and other smart devices can be controlled remotely using mobile apps. This allows users to access their accounts, check balances, and make transactions from anywhere with an internet connection.\n",
      "\n",
      "**Benefits of Online Banking**\n",
      "\n",
      "Online banking offers numerous benefits to individuals and businesses alike. Some of the key advantages include:\n",
      "\n",
      "1.  **Improved Productivity**: By automating repetitive tasks, you can free up time for more strategic and creative work.\n",
      " \n",
      "                Here are some tips to help you prioritize your tasks:\n",
      "1. Make a list of all the tasks you need to complete\n",
      "Prioritize them based on importance and urgency\n",
      "Break down large tasks into smaller, manageable chunks\n",
      "Create a schedule or timeline to organize tasks and deadlines\n",
      "Use a task management system, such as Trello or Asana, to keep track of your progress and stay organized.\n",
      "Time taken: 38.401s\n"
     ]
    }
   ],
   "source": [
    "##\n",
    "## META PROMPTING\n",
    "##\n",
    "\n",
    "from _pipeline import create_payload, model_req\n",
    "\n",
    "#### (1) Define a Prompt Template for Study Companion Bot\n",
    "PROMPT_TEMPLATE = \"\"\" You are an AI Study Companion Bot designed to assist students with learning, collaboration, and productivity. \n",
    "Your capabilities include:\n",
    "- Answering Frequently Asked Questions (FAQs)\n",
    "- Generating quizzes to reinforce learning\n",
    "- Explaining subject concepts in a structured manner\n",
    "- Providing study reminders and schedules\n",
    "\"\"\"\n",
    "\n",
    "#### (2) Apply Prompt Engineering to structure responses\n",
    "PROMPT = PROMPT_TEMPLATE  # Keeping it flexible for future modifications\n",
    "\n",
    "#### (3) Configure the Model Request for Workflow Orchestration\n",
    "# Documentation: https://github.com/ollama/ollama/blob/main/docs/api.md\n",
    "payload = create_payload(target=\"ollama\",\n",
    "                         model=\"llama3.2:latest\", \n",
    "                         prompt=PROMPT, \n",
    "                         temperature=0.2, \n",
    "                         num_ctx=20, \n",
    "                         num_predict=2048)\n",
    "\n",
    "### YOU DON'T NEED TO CONFIGURE ANYTHING ELSE FROM THIS POINT\n",
    "# Send request to the model\n",
    "time, response = model_req(payload=payload)\n",
    "print(response)\n",
    "if time: print(f'Time taken: {time}s')\n"
   ]
  }
 ],
 "metadata": {
  "kernelspec": {
   "display_name": "Python 3",
   "language": "python",
   "name": "python3"
  },
  "language_info": {
   "codemirror_mode": {
    "name": "ipython",
    "version": 3
   },
   "file_extension": ".py",
   "mimetype": "text/x-python",
   "name": "python",
   "nbconvert_exporter": "python",
   "pygments_lexer": "ipython3",
   "version": "3.13.1"
  }
 },
 "nbformat": 4,
 "nbformat_minor": 2
}
