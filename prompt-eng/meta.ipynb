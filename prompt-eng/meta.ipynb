{
 "cells": [
  {
   "cell_type": "markdown",
   "metadata": {},
   "source": [
    "\n",
    "\n"
   ]
  },
  {
   "cell_type": "markdown",
   "metadata": {},
   "source": [
    "# Meta Prompting\n",
    "\n",
    "Meta prompting is an advanced technique in prompt engineering that emphasizes the structural and syntactical organization of tasks and problems rather than focusing on their specific content. The objective is to create a more abstract, form-driven way of engaging with large language models (LLMs), highlighting patterns and structure over traditional content-focused methods.\n",
    "\n",
    "As outlined by [Zhang et al. (2024)](https://arxiv.org/abs/2311.11482), the defining features of meta prompting include:\n",
    "\n",
    "* Structure-Oriented: Prioritizes the organization and pattern of problems and solutions instead of specific content.\n",
    "* Syntax-Guided: Leverages syntax as a template to shape the expected responses or solutions.\n",
    "* Abstract Frameworks: Uses abstract examples as blueprints, demonstrating the structure of tasks without relying on concrete details.\n",
    "* Domain Versatility: Can be applied across multiple fields, offering structured solutions to diverse problem types.\n",
    "* Categorical Approach: Draws on type theory to organize and categorize components logically, enhancing prompt coherence and precision."
   ]
  },
  {
   "cell_type": "markdown",
   "metadata": {},
   "source": [
    "## Running this code on MyBind.org\n",
    "\n",
    "Note: remember that you will need to **adjust CONFIG** with **proper URL and API_KEY**!\n",
    "\n",
    "[![Binder](https://mybinder.org/badge_logo.svg)](https://mybinder.org/v2/gh/GenILab-FAU/prompt-eng/HEAD?urlpath=%2Fdoc%2Ftree%2Fprompt-eng%2Fmeta.ipynb)\n",
    "\n"
   ]
  },
  {
   "cell_type": "code",
   "execution_count": 1,
   "metadata": {},
   "outputs": [
    {
     "name": "stdout",
     "output_type": "stream",
     "text": [
      "{'model': 'llama3.2:latest', 'prompt': 'You are an AI-powered study assistant. Provide a detailed yet concise explanation for: Explain the concept of Agile methodology in software development.. Include key points, real-world applications, and resources from W3Schools, MDN, and Stack Overflow.', 'stream': False, 'options': {'temperature': 0.7, 'num_ctx': 200, 'num_predict': 200}}\n",
      "Agile is a popular software development methodology that emphasizes flexibility, collaboration, and continuous improvement. Here's a detailed yet concise explanation:\n",
      "\n",
      "**Key Points:**\n",
      "\n",
      "1. **Iterative Development**: Agile involves breaking down work into small, manageable chunks called iterations or sprints.\n",
      "2. **Flexibility**: Agile allows for changes in requirements and priorities, making it adaptable to shifting project needs.\n",
      "3. **Collaboration**: Agile encourages cross-functional teams, regular communication, and continuous feedback.\n",
      "4. **Continuous Improvement**: Agile involves ongoing evaluation and refinement of processes, ensuring they remain effective and efficient.\n",
      "\n",
      "**Real-World Applications:**\n",
      "\n",
      "1. **Software Development**: Agile is widely used in software development for its flexibility and adaptability to changing requirements.\n",
      "2. **Project Management**: Agile principles are applied in project management to ensure teams stay on track and deliver results efficiently.\n",
      "3. **Business Operations**: Companies use Agile methodologies to improve decision-making, innovation, and customer satisfaction.\n",
      "\n",
      "**Key Roles:**\n",
      "\n",
      "1\n",
      "Time taken: 68.115s\n"
     ]
    }
   ],
   "source": [
    "##\n",
    "## META PROMPTING FOR STUDY COMPANION BOT\n",
    "##\n",
    "\n",
    "from _pipeline import create_payload, model_req\n",
    "\n",
    "#### (1) Adjust the inbounding Prompt, simulating inbounding requests from users or other systems\n",
    "MESSAGE = \"Explain the concept of Agile methodology in software development.\"\n",
    "\n",
    "#### (2) Adjust the Prompt Engineering Technique to be applied, simulating Workflow Templates\n",
    "PROMPT = f\"You are an AI-powered study assistant. Provide a detailed yet concise explanation for: {MESSAGE}. Include key points, real-world applications, and resources from W3Schools, MDN, and Stack Overflow.\"\n",
    "\n",
    "#### (3) Configure the Model request, simulating Workflow Orchestration\n",
    "# Documentation: https://github.com/ollama/ollama/blob/main/docs/api.md\n",
    "payload = create_payload(target=\"ollama\",\n",
    "                         model=\"llama3.2:latest\", \n",
    "                         prompt=PROMPT, \n",
    "                         temperature=0.7, \n",
    "                         num_ctx=200, \n",
    "                         num_predict=200)\n",
    "\n",
    "### YOU DONT NEED TO CONFIGURE ANYTHING ELSE FROM THIS POINT\n",
    "# Send out to the model\n",
    "response_time, response = model_req(payload=payload)\n",
    "print(response)\n",
    "if response_time: print(f'Time taken: {response_time}s')\n"
   ]
  }
 ],
 "metadata": {
  "kernelspec": {
   "display_name": "Python 3",
   "language": "python",
   "name": "python3"
  },
  "language_info": {
   "codemirror_mode": {
    "name": "ipython",
    "version": 3
   },
   "file_extension": ".py",
   "mimetype": "text/x-python",
   "name": "python",
   "nbconvert_exporter": "python",
   "pygments_lexer": "ipython3",
   "version": "3.12.1"
  }
 },
 "nbformat": 4,
 "nbformat_minor": 2
}
